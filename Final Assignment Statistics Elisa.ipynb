{
 "cells": [
  {
   "cell_type": "code",
   "execution_count": 91,
   "id": "0afad5a2",
   "metadata": {},
   "outputs": [],
   "source": [
    "import pandas as pd\n",
    "import matplotlib as plt\n",
    "import seaborn as sns\n",
    "import scipy.stats \n",
    "import statsmodels.api as sm"
   ]
  },
  {
   "cell_type": "code",
   "execution_count": 35,
   "id": "e3468449",
   "metadata": {
    "scrolled": true
   },
   "outputs": [
    {
     "data": {
      "text/html": [
       "<div>\n",
       "<style scoped>\n",
       "    .dataframe tbody tr th:only-of-type {\n",
       "        vertical-align: middle;\n",
       "    }\n",
       "\n",
       "    .dataframe tbody tr th {\n",
       "        vertical-align: top;\n",
       "    }\n",
       "\n",
       "    .dataframe thead th {\n",
       "        text-align: right;\n",
       "    }\n",
       "</style>\n",
       "<table border=\"1\" class=\"dataframe\">\n",
       "  <thead>\n",
       "    <tr style=\"text-align: right;\">\n",
       "      <th></th>\n",
       "      <th>Unnamed: 0</th>\n",
       "      <th>CRIM</th>\n",
       "      <th>ZN</th>\n",
       "      <th>INDUS</th>\n",
       "      <th>CHAS</th>\n",
       "      <th>NOX</th>\n",
       "      <th>RM</th>\n",
       "      <th>AGE</th>\n",
       "      <th>DIS</th>\n",
       "      <th>RAD</th>\n",
       "      <th>TAX</th>\n",
       "      <th>PTRATIO</th>\n",
       "      <th>LSTAT</th>\n",
       "      <th>MEDV</th>\n",
       "    </tr>\n",
       "  </thead>\n",
       "  <tbody>\n",
       "    <tr>\n",
       "      <th>0</th>\n",
       "      <td>0</td>\n",
       "      <td>0.00632</td>\n",
       "      <td>18.0</td>\n",
       "      <td>2.31</td>\n",
       "      <td>0.0</td>\n",
       "      <td>0.538</td>\n",
       "      <td>6.575</td>\n",
       "      <td>65.2</td>\n",
       "      <td>4.0900</td>\n",
       "      <td>1.0</td>\n",
       "      <td>296.0</td>\n",
       "      <td>15.3</td>\n",
       "      <td>4.98</td>\n",
       "      <td>24.0</td>\n",
       "    </tr>\n",
       "    <tr>\n",
       "      <th>1</th>\n",
       "      <td>1</td>\n",
       "      <td>0.02731</td>\n",
       "      <td>0.0</td>\n",
       "      <td>7.07</td>\n",
       "      <td>0.0</td>\n",
       "      <td>0.469</td>\n",
       "      <td>6.421</td>\n",
       "      <td>78.9</td>\n",
       "      <td>4.9671</td>\n",
       "      <td>2.0</td>\n",
       "      <td>242.0</td>\n",
       "      <td>17.8</td>\n",
       "      <td>9.14</td>\n",
       "      <td>21.6</td>\n",
       "    </tr>\n",
       "    <tr>\n",
       "      <th>2</th>\n",
       "      <td>2</td>\n",
       "      <td>0.02729</td>\n",
       "      <td>0.0</td>\n",
       "      <td>7.07</td>\n",
       "      <td>0.0</td>\n",
       "      <td>0.469</td>\n",
       "      <td>7.185</td>\n",
       "      <td>61.1</td>\n",
       "      <td>4.9671</td>\n",
       "      <td>2.0</td>\n",
       "      <td>242.0</td>\n",
       "      <td>17.8</td>\n",
       "      <td>4.03</td>\n",
       "      <td>34.7</td>\n",
       "    </tr>\n",
       "    <tr>\n",
       "      <th>3</th>\n",
       "      <td>3</td>\n",
       "      <td>0.03237</td>\n",
       "      <td>0.0</td>\n",
       "      <td>2.18</td>\n",
       "      <td>0.0</td>\n",
       "      <td>0.458</td>\n",
       "      <td>6.998</td>\n",
       "      <td>45.8</td>\n",
       "      <td>6.0622</td>\n",
       "      <td>3.0</td>\n",
       "      <td>222.0</td>\n",
       "      <td>18.7</td>\n",
       "      <td>2.94</td>\n",
       "      <td>33.4</td>\n",
       "    </tr>\n",
       "    <tr>\n",
       "      <th>4</th>\n",
       "      <td>4</td>\n",
       "      <td>0.06905</td>\n",
       "      <td>0.0</td>\n",
       "      <td>2.18</td>\n",
       "      <td>0.0</td>\n",
       "      <td>0.458</td>\n",
       "      <td>7.147</td>\n",
       "      <td>54.2</td>\n",
       "      <td>6.0622</td>\n",
       "      <td>3.0</td>\n",
       "      <td>222.0</td>\n",
       "      <td>18.7</td>\n",
       "      <td>5.33</td>\n",
       "      <td>36.2</td>\n",
       "    </tr>\n",
       "  </tbody>\n",
       "</table>\n",
       "</div>"
      ],
      "text/plain": [
       "   Unnamed: 0     CRIM    ZN  INDUS  CHAS    NOX     RM   AGE     DIS  RAD  \\\n",
       "0           0  0.00632  18.0   2.31   0.0  0.538  6.575  65.2  4.0900  1.0   \n",
       "1           1  0.02731   0.0   7.07   0.0  0.469  6.421  78.9  4.9671  2.0   \n",
       "2           2  0.02729   0.0   7.07   0.0  0.469  7.185  61.1  4.9671  2.0   \n",
       "3           3  0.03237   0.0   2.18   0.0  0.458  6.998  45.8  6.0622  3.0   \n",
       "4           4  0.06905   0.0   2.18   0.0  0.458  7.147  54.2  6.0622  3.0   \n",
       "\n",
       "     TAX  PTRATIO  LSTAT  MEDV  \n",
       "0  296.0     15.3   4.98  24.0  \n",
       "1  242.0     17.8   9.14  21.6  \n",
       "2  242.0     17.8   4.03  34.7  \n",
       "3  222.0     18.7   2.94  33.4  \n",
       "4  222.0     18.7   5.33  36.2  "
      ]
     },
     "execution_count": 35,
     "metadata": {},
     "output_type": "execute_result"
    }
   ],
   "source": [
    "boston_url = 'https://cf-courses-data.s3.us.cloud-object-storage.appdomain.cloud/IBMDeveloperSkillsNetwork-ST0151EN-SkillsNetwork/labs/boston_housing.csv'\n",
    "boston_df = pd.read_csv(boston_url)\n",
    "boston_df.head()"
   ]
  },
  {
   "cell_type": "markdown",
   "id": "42028d48",
   "metadata": {},
   "source": [
    "·      CRIM - per capita crime rate by town\n",
    "\n",
    "·      ZN - proportion of residential land zoned for lots over 25,000 sq.ft.\n",
    "\n",
    "·      INDUS - proportion of non-retail business acres per town.\n",
    "\n",
    "·      CHAS - Charles River dummy variable (1 if tract bounds river; 0 otherwise)\n",
    "\n",
    "·      NOX - nitric oxides concentration (parts per 10 million)\n",
    "\n",
    "·      RM - average number of rooms per dwelling\n",
    "\n",
    "·      AGE - proportion of owner-occupied units built prior to 1940\n",
    "\n",
    "·      DIS - weighted distances to five Boston employment centres\n",
    "\n",
    "·      RAD - index of accessibility to radial highways\n",
    "\n",
    "·      TAX - full-value property-tax rate per $10,000\n",
    "\n",
    "·      PTRATIO - pupil-teacher ratio by town\n",
    "\n",
    "·      LSTAT - % lower status of the population\n",
    "\n",
    "·      MEDV - Median value of owner-occupied homes in $1000's"
   ]
  },
  {
   "cell_type": "markdown",
   "id": "7e370eeb",
   "metadata": {},
   "source": [
    "### Task 4"
   ]
  },
  {
   "cell_type": "code",
   "execution_count": 36,
   "id": "d485f937",
   "metadata": {},
   "outputs": [
    {
     "data": {
      "text/plain": [
       "<AxesSubplot:xlabel='MEDV'>"
      ]
     },
     "execution_count": 36,
     "metadata": {},
     "output_type": "execute_result"
    },
    {
     "data": {
      "image/png": "[encoded data removed]",
      "text/plain": [
       "<Figure size 432x288 with 1 Axes>"
      ]
     },
     "metadata": {
      "needs_background": "light"
     },
     "output_type": "display_data"
    }
   ],
   "source": [
    "#Question: For the \"Median value of owner-occupied homes\" provide a boxplot\n",
    "\n",
    "sns.boxplot(x=boston_df['MEDV'],color='darkred')"
   ]
  },
  {
   "cell_type": "code",
   "execution_count": 86,
   "id": "5431ab8a",
   "metadata": {},
   "outputs": [
    {
     "data": {
      "text/plain": [
       "<AxesSubplot:>"
      ]
     },
     "execution_count": 86,
     "metadata": {},
     "output_type": "execute_result"
    },
    {
     "data": {
      "image/png": "[encoded data removed]",
      "text/plain": [
       "<Figure size 432x288 with 1 Axes>"
      ]
     },
     "metadata": {
      "needs_background": "light"
     },
     "output_type": "display_data"
    }
   ],
   "source": [
    "#Question: Provide a  bar plot for the Charles river variable\n",
    "\n",
    "boston_df['CHAS'].value_counts().plot(kind='bar')\n",
    "#1 if tract bounds river; 0 otherwise"
   ]
  },
  {
   "cell_type": "code",
   "execution_count": 42,
   "id": "b0666fcb",
   "metadata": {},
   "outputs": [
    {
     "data": {
      "text/plain": [
       "<AxesSubplot:xlabel='age_group', ylabel='MEDV'>"
      ]
     },
     "execution_count": 42,
     "metadata": {},
     "output_type": "execute_result"
    },
    {
     "data": {
      "image/png": "[encoded data removed]",
      "text/plain": [
       "<Figure size 432x288 with 1 Axes>"
      ]
     },
     "metadata": {
      "needs_background": "light"
     },
     "output_type": "display_data"
    }
   ],
   "source": [
    "#Question: Provide a boxplot for the MEDV variable vs the AGE variable. \n",
    "#(Discretize the age variable into three groups of 35 years and younger, between 35 and 70 years and 70 years and older)\n",
    "\n",
    "boston_df.loc[(boston_df['AGE'] <= 35), 'age_group'] = '35 years and younger'\n",
    "boston_df.loc[(boston_df['AGE'] > 35)&(boston_df['AGE'] < 70), 'age_group'] = 'between 35 and 70 years'\n",
    "boston_df.loc[(boston_df['AGE'] >= 70), 'age_group'] = '70 years and older'\n",
    "sns.boxplot(x=\"age_group\", y=\"MEDV\", data=boston_df,)"
   ]
  },
  {
   "cell_type": "code",
   "execution_count": 46,
   "id": "1b1205d2",
   "metadata": {},
   "outputs": [
    {
     "data": {
      "text/plain": [
       "<AxesSubplot:xlabel='NOX', ylabel='INDUS'>"
      ]
     },
     "execution_count": 46,
     "metadata": {},
     "output_type": "execute_result"
    },
    {
     "data": {
      "image/png": "[encoded data removed]",
      "text/plain": [
       "<Figure size 432x288 with 1 Axes>"
      ]
     },
     "metadata": {
      "needs_background": "light"
     },
     "output_type": "display_data"
    }
   ],
   "source": [
    "#Question: Provide a scatter plot to show the relationship between Nitric oxide concentrations \n",
    "# and the proportion of non-retail business acres per town. What can you say about the relationship?\n",
    "\n",
    "sns.scatterplot(x='NOX', y='INDUS', data=boston_df)\n",
    "# The two variables seem to be correlated.The lower the NOX, the lower is the proportion of non-retail business."
   ]
  },
  {
   "cell_type": "code",
   "execution_count": 84,
   "id": "97abfe46",
   "metadata": {},
   "outputs": [
    {
     "data": {
      "text/plain": [
       "<AxesSubplot:xlabel='PTRATIO', ylabel='Count'>"
      ]
     },
     "execution_count": 84,
     "metadata": {},
     "output_type": "execute_result"
    },
    {
     "data": {
      "image/png": "[encoded data removed]",
      "text/plain": [
       "<Figure size 432x288 with 1 Axes>"
      ]
     },
     "metadata": {
      "needs_background": "light"
     },
     "output_type": "display_data"
    }
   ],
   "source": [
    "#Question: Create a histogram for the pupil to teacher ratio variable\n",
    "\n",
    "#sns.catplot(x='PTRATIO', kind='count', data=boston_df,  height = 6, aspect = 3)\n",
    "sns.histplot(data=boston_df, x=\"PTRATIO\", bins=20)"
   ]
  },
  {
   "cell_type": "markdown",
   "id": "43850bc4",
   "metadata": {},
   "source": [
    "### Task 5\n",
    "State your hypothesis. \n",
    "\n",
    "Use α = 0.05\n",
    "\n",
    "Perform the test Statistics.\n",
    "\n",
    "State the conclusion from the test."
   ]
  },
  {
   "cell_type": "code",
   "execution_count": 89,
   "id": "7320d27d",
   "metadata": {},
   "outputs": [
    {
     "data": {
      "text/plain": [
       "Ttest_indResult(statistic=-3.996437466090509, pvalue=7.390623170519905e-05)"
      ]
     },
     "execution_count": 89,
     "metadata": {},
     "output_type": "execute_result"
    }
   ],
   "source": [
    "#Question: Is there a significant difference in median value of houses bounded by the Charles river or not? \n",
    "#(T-test for independent samples)\n",
    "\n",
    "# 𝐻_0:µ_1=µ_2  (\"there is no difference in median value of houses bounded by the Charles river\")\n",
    "# 𝐻_1:µ_1≠µ_2  (\"there is a difference in median value of houses bounded by the Charles river\")\n",
    "\n",
    "scipy.stats.ttest_ind(boston_df[boston_df['CHAS'] == 0.0]['MEDV'],\n",
    "                     boston_df[boston_df['CHAS'] == 1.0]['MEDV'], equal_var = True)\n",
    "\n",
    "# Conclusion: Since the p-value is less than alpha value 0.05, we reject the null hypothesis as there is enough proof \n",
    "# that there is a statistical difference in median value of houses bounded by the Charles river"
   ]
  },
  {
   "cell_type": "code",
   "execution_count": 115,
   "id": "8b7d38ba",
   "metadata": {},
   "outputs": [
    {
     "name": "stdout",
     "output_type": "stream",
     "text": [
      "First method: \n",
      " F_Statistic: 36.40764999196599, P-Value: 1.7105011022702984e-15\n",
      "\n",
      "Regression method: \n",
      "               df        sum_sq      mean_sq         F        PR(>F)\n",
      "age_group    2.0   5401.731883  2700.865942  36.40765  1.710501e-15\n",
      "Residual   503.0  37314.563532    74.184023       NaN           NaN\n"
     ]
    }
   ],
   "source": [
    "#Question: Is there a difference in Median values of houses (MEDV) for each proportion of owner occupied units\n",
    "# built prior to 1940 (AGE)? (ANOVA)\n",
    "\n",
    "# 𝐻_0:µ_1=µ_2  (\"there is no difference in median value of houses bounded by occupied units built prior to 1940\")\n",
    "# 𝐻_1:µ_1≠µ_2  (\"there is a difference in median value of houses bounded by occupied units built prior to 1940\")\n",
    "\n",
    "age1 = boston_df.loc[boston_df['age_group'] == '35 years and younger']['MEDV']\n",
    "age2 = boston_df.loc[boston_df['age_group'] == 'between 35 and 70 years']['MEDV']\n",
    "age3 = boston_df.loc[boston_df['age_group'] == '70 years and older']['MEDV']\n",
    "f_statistic, p_value = scipy.stats.f_oneway(age1,age2,age3)\n",
    "print('First method: \\n', 'F_Statistic: {0}, P-Value: {1}'.format(f_statistic,p_value))\n",
    "\n",
    "from statsmodels.formula.api import ols\n",
    "lm = ols('MEDV ~ age_group', data = boston_df).fit()\n",
    "table= sm.stats.anova_lm(lm)\n",
    "print('\\nRegression method: \\n',table)\n",
    "\n",
    "# Conclusion: Since the p-value is less than alpha value 0.05, we reject the null hypothesis as there is enough proof \n",
    "# that there is a statistical difference in median value of houses bounded by occupied units built prior to 1940"
   ]
  },
  {
   "cell_type": "code",
   "execution_count": 120,
   "id": "466e117c",
   "metadata": {},
   "outputs": [
    {
     "name": "stdout",
     "output_type": "stream",
     "text": [
      "F_Statistic: 0.7636514469209157, P-Value: 7.913361061233745e-98\n"
     ]
    }
   ],
   "source": [
    "#Question: Can we conclude that there is no relationship between Nitric oxide concentrations \n",
    "# and proportion of non-retail business acres per town? (Pearson Correlation)\n",
    "\n",
    "# 𝐻_0: Nitric oxide concentrations are not correlated with the proportion of non-retail business acres per town\n",
    "# 𝐻_1: Nitric oxide concentrations are not correlated with the proportion of non-retail business acres per town\n",
    "\n",
    "f_statistic, p_value = scipy.stats.pearsonr(boston_df['NOX'], boston_df['INDUS'])\n",
    "print('F_Statistic: {0}, P-Value: {1}'.format(f_statistic,p_value))\n",
    "\n",
    "# Conclusion: Since the p-value is less than alpha value 0.05, we reject the Null hypothesis and conclude that \n",
    "# there exists a relationship between NOX concentrations and the proportion of non-retail business acres per town"
   ]
  },
  {
   "cell_type": "code",
   "execution_count": 123,
   "id": "982e4b2f",
   "metadata": {},
   "outputs": [
    {
     "name": "stdout",
     "output_type": "stream",
     "text": [
      "             df       sum_sq     mean_sq         F        PR(>F)\n",
      "MEDV        1.0   139.868826  139.868826  33.57957  1.206612e-08\n",
      "Residual  504.0  2099.308819    4.165295       NaN           NaN\n"
     ]
    }
   ],
   "source": [
    "#Question: What is the impact of an additional weighted distance to the five Boston employment centres \n",
    "# on the median value of owner occupied homes? (Regression analysis)\n",
    "\n",
    "# 𝐻_0: µ_1=µ_2  (\"the two population means are equal\")\n",
    "# 𝐻_1: µ_1≠µ_2  (\"the two population means are different\")\n",
    "\n",
    "from statsmodels.formula.api import ols\n",
    "lm = ols('DIS ~ MEDV', data = boston_df).fit()\n",
    "table1= sm.stats.anova_lm(lm)\n",
    "print(table1)\n",
    "\n",
    "# Conclusion: Since the p-value is less than alpha value 0.05, we reject the Null hypothesis and conclude that \n",
    "# an additional weighted distance to the five Boston employment centres impacts the median value of owner occupied homes"
   ]
  }
 ],
 "metadata": {
  "kernelspec": {
   "display_name": "Python 3 (ipykernel)",
   "language": "python",
   "name": "python3"
  },
  "language_info": {
   "codemirror_mode": {
    "name": "ipython",
    "version": 3
   },
   "file_extension": ".py",
   "mimetype": "text/x-python",
   "name": "python",
   "nbconvert_exporter": "python",
   "pygments_lexer": "ipython3",
   "version": "3.9.10"
  }
 },
 "nbformat": 4,
 "nbformat_minor": 5
}
